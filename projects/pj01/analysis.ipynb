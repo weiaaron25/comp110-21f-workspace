{
 "cells": [
  {
   "cell_type": "markdown",
   "metadata": {},
   "source": [
    "# Project 01\n",
    "## Do students who find office hours effective find the class to be less difficult?"
   ]
  },
  {
   "cell_type": "code",
   "execution_count": 2,
   "metadata": {},
   "outputs": [],
   "source": [
    "__author__ = \"730448488\""
   ]
  },
  {
   "cell_type": "markdown",
   "metadata": {},
   "source": [
    "### Autoreload code cell"
   ]
  },
  {
   "cell_type": "code",
   "execution_count": 3,
   "metadata": {},
   "outputs": [],
   "source": [
    "%reload_ext autoreload\n",
    "%autoreload 2"
   ]
  },
  {
   "cell_type": "markdown",
   "metadata": {},
   "source": [
    "### Importing the csv as a column-oriented table"
   ]
  },
  {
   "cell_type": "code",
   "execution_count": 51,
   "metadata": {},
   "outputs": [],
   "source": [
    "from data_utils import read_csv_rows, columnar\n",
    "\n",
    "data_rows: list[dict[str, str]] = read_csv_rows('../../data/survey.csv')\n",
    "columns: dict[str, list[str]] = columnar(data_rows)\n"
   ]
  },
  {
   "cell_type": "markdown",
   "metadata": {},
   "source": [
    "### Selecting relevant data: prior_time and difficulty\n",
    "In order to do this I will select the two columns and then convert them into their own lists. The head for the two dictionaries is shown"
   ]
  },
  {
   "cell_type": "code",
   "execution_count": 77,
   "metadata": {},
   "outputs": [
    {
     "data": {
      "text/plain": [
       "{'oh_list': ['5'], 'diff_list': [5]}"
      ]
     },
     "execution_count": 77,
     "metadata": {},
     "output_type": "execute_result"
    }
   ],
   "source": [
    "from data_utils import select, head, count\n",
    "\n",
    "oh_table: dict[str, list[str]] = select(columns, [\"oh_effective\"])\n",
    "difficulty: dict[str, list[str]] = select(columns, [\"difficulty\"])\n",
    "# tabulate(social_hours, work_hours, \"html\")\n",
    "oh_list: list[str] = []\n",
    "diff_list: list[int] =[]\n",
    "\n",
    "total_dict: dict[str, list] = {}\n",
    "total_dict['oh_list'] = oh_list\n",
    "total_dict['diff_list'] = diff_list\n",
    "\n",
    "\n",
    "\n",
    "for i in difficulty[\"difficulty\"]:\n",
    "    diff_list.append(int(i))\n",
    "\n",
    "for i in oh_table[\"oh_effective\"]:\n",
    "    oh_list.append(str(i))\n",
    "\n",
    "head(total_dict, 1)"
   ]
  },
  {
   "cell_type": "markdown",
   "metadata": {},
   "source": [
    "### Ensure that the blank entries and their corresponding values were correctly deleted"
   ]
  },
  {
   "cell_type": "code",
   "execution_count": 79,
   "metadata": {},
   "outputs": [
    {
     "name": "stdout",
     "output_type": "stream",
     "text": [
      "{5: 158, 3: 54, 6: 112, 4: 120, 7: 86, 2: 32, 1: 11}\n"
     ]
    },
    {
     "data": {
      "text/plain": [
       "{'5': 66, '': 203, '7': 124, '3': 18, '4': 72, '2': 13, '6': 73, '1': 4}"
      ]
     },
     "execution_count": 79,
     "metadata": {},
     "output_type": "execute_result"
    }
   ],
   "source": [
    "counts_diff = count(diff_list)\n",
    "print(counts_diff)\n",
    "counts_oh = count(oh_list)\n",
    "counts_oh"
   ]
  },
  {
   "cell_type": "markdown",
   "metadata": {},
   "source": [
    "### Removing blank lines\n",
    "Because oh_effective was not a required entry, I will create a function to remove all the values in oh_list and the corresponding diff_list entry where there is no oh_effective value. The function is then called."
   ]
  },
  {
   "cell_type": "code",
   "execution_count": 11,
   "metadata": {},
   "outputs": [],
   "source": [
    "def remove_corresponding_blank(list1: list[str], list2: list[int]) -> None:\n",
    "    \"\"\"A function that removes blanks from list1 and removes the corresponding entry at the index in list2\"\"\"\n",
    "    i = 0\n",
    "    while i<len(oh_list):\n",
    "        if oh_list[i] == '':\n",
    "            oh_list.pop(i)\n",
    "            diff_list.pop(i)\n",
    "        i += 1\n",
    "remove_corresponding_blank(oh_list, diff_list)\n"
   ]
  },
  {
   "cell_type": "markdown",
   "metadata": {},
   "source": [
    "### Creating a counting dictionary\n",
    "This dictionary will have the possible answers to oh_effective as the keys and the values as a list of the corresponding difficulty responses."
   ]
  },
  {
   "cell_type": "code",
   "execution_count": 23,
   "metadata": {},
   "outputs": [],
   "source": [
    "data = {'1': [], '2': [], '3': [], '4': [], '5': [], '6': [], '7': []}\n",
    "i = 0\n",
    "while i<len(oh_list):\n",
    "    data[oh_list[i]].append(diff_list[i])\n",
    "    i += 1"
   ]
  },
  {
   "cell_type": "markdown",
   "metadata": {},
   "source": [
    "### Finding the averages\n",
    "Next, we will average the values for each of the keys in the data dictionary. This represents the average difficulty of each oh_effective rating."
   ]
  },
  {
   "cell_type": "code",
   "execution_count": 66,
   "metadata": {},
   "outputs": [],
   "source": [
    "data_avg = {}\n",
    "\n",
    "for key in data:\n",
    "    data_avg[key] = sum(data[key]) / len((data[key]))"
   ]
  },
  {
   "cell_type": "markdown",
   "metadata": {},
   "source": [
    "### Graphs"
   ]
  },
  {
   "cell_type": "code",
   "execution_count": 76,
   "metadata": {},
   "outputs": [
    {
     "data": {
      "text/html": [
       "<div>\n",
       "<style scoped>\n",
       "    .dataframe tbody tr th:only-of-type {\n",
       "        vertical-align: middle;\n",
       "    }\n",
       "\n",
       "    .dataframe tbody tr th {\n",
       "        vertical-align: top;\n",
       "    }\n",
       "\n",
       "    .dataframe thead th {\n",
       "        text-align: right;\n",
       "    }\n",
       "</style>\n",
       "<table border=\"1\" class=\"dataframe\">\n",
       "  <thead>\n",
       "    <tr style=\"text-align: right;\">\n",
       "      <th></th>\n",
       "      <th>Average perceived difficulty</th>\n",
       "    </tr>\n",
       "  </thead>\n",
       "  <tbody>\n",
       "    <tr>\n",
       "      <th>1</th>\n",
       "      <td>5.500000</td>\n",
       "    </tr>\n",
       "    <tr>\n",
       "      <th>2</th>\n",
       "      <td>6.000000</td>\n",
       "    </tr>\n",
       "    <tr>\n",
       "      <th>3</th>\n",
       "      <td>5.388889</td>\n",
       "    </tr>\n",
       "    <tr>\n",
       "      <th>4</th>\n",
       "      <td>4.736111</td>\n",
       "    </tr>\n",
       "    <tr>\n",
       "      <th>5</th>\n",
       "      <td>5.106061</td>\n",
       "    </tr>\n",
       "    <tr>\n",
       "      <th>6</th>\n",
       "      <td>5.205479</td>\n",
       "    </tr>\n",
       "    <tr>\n",
       "      <th>7</th>\n",
       "      <td>5.016129</td>\n",
       "    </tr>\n",
       "  </tbody>\n",
       "</table>\n",
       "</div>"
      ],
      "text/plain": [
       "   Average perceived difficulty\n",
       "1                      5.500000\n",
       "2                      6.000000\n",
       "3                      5.388889\n",
       "4                      4.736111\n",
       "5                      5.106061\n",
       "6                      5.205479\n",
       "7                      5.016129"
      ]
     },
     "execution_count": 76,
     "metadata": {},
     "output_type": "execute_result"
    },
    {
     "data": {
      "image/png": "[encoded data removed]",
      "text/plain": [
       "<Figure size 432x288 with 1 Axes>"
      ]
     },
     "metadata": {
      "needs_background": "light"
     },
     "output_type": "display_data"
    }
   ],
   "source": [
    "import matplotlib.pyplot as plt\n",
    "import pandas as pd\n",
    "\n",
    "\n",
    "fig = plt.figure()\n",
    "fig.suptitle(\"Relationship between perceived effectiveness of office horus and difficulty of COMP 110\")\n",
    "plt.xlabel('Perceived effectiveness of office hours')\n",
    "plt.ylabel('Perceived difficulty of class')\n",
    "keys = data_avg.keys()\n",
    "values = data_avg.values()\n",
    "plt.bar(keys, values)\n",
    "\n",
    "\n",
    "pd.DataFrame.from_dict(data_avg, orient='index', columns = ['Average perceived difficulty'])"
   ]
  },
  {
   "cell_type": "markdown",
   "metadata": {},
   "source": [
    "### Conclusion\n",
    "There does not appear to be any correlation between perceived effectiveness of office hours and the perceived difficulty of COMP 110. There is a very slight decrease in difficulty when perceived effectiveness increases but it is too slight to draw any conclusions from. The delta in difficulty from the lowest perceived effectiveness of office hours to highest is .4838 which is a very small difference. "
   ]
  }
 ],
 "metadata": {
  "interpreter": {
   "hash": "aee8b7b246df8f9039afb4144a1f6fd8d2ca17a180786b69acc140d282b71a49"
  },
  "kernelspec": {
   "display_name": "Python 3.9.6 64-bit",
   "name": "python3"
  },
  "language_info": {
   "codemirror_mode": {
    "name": "ipython",
    "version": 3
   },
   "file_extension": ".py",
   "mimetype": "text/x-python",
   "name": "python",
   "nbconvert_exporter": "python",
   "pygments_lexer": "ipython3",
   "version": "3.9.6"
  },
  "orig_nbformat": 4
 },
 "nbformat": 4,
 "nbformat_minor": 2
}
